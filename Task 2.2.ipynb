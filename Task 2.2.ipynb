{
 "cells": [
  {
   "cell_type": "code",
   "execution_count": 4,
   "metadata": {},
   "outputs": [],
   "source": [
    "# importing modules\n",
    "import requests\n",
    "from bs4 import BeautifulSoup\n",
    "\n",
    "# URL for scraping data\n",
    "url = 'https://www.mygov.in/corona-data/covid19-statewise-status'\n",
    "\n",
    "# get URL html\n",
    "page = requests.get(url)\n",
    "soup = BeautifulSoup(page.text, 'html.parser')\n",
    "\n",
    "data = []\n",
    "\n",
    "# soup.find_all('td') will scrape every\n",
    "# element in the url's table\n",
    "data_iterator = iter(soup.find_all('td'))\n",
    "\n",
    "# data_iterator is the iterator of the table\n",
    "# This loop will keep repeating till there is\n",
    "# data available in the iterator\n",
    "while True:\n",
    "\ttry:\n",
    "\t\tState_Name = next(data_iterator).text\n",
    "\t\tCured = next(data_iterator).text\n",
    "\t\tDeath = next(data_iterator).text\n",
    "\t\tTotal_Confirmed = next(data_iterator).text\n",
    "\n",
    "\t\t# For 'confirmed' and 'deaths',\n",
    "\t\t# make sure to remove the commas\n",
    "\t\t# and convert to int\n",
    "\t\tdata.append((\n",
    "\t\t\tState_Name,\n",
    "\t\t\t(Cured.replace(', ', '')),\n",
    "\t\t\t(Death.replace(', ', '')),\n",
    "\t\t\tTotal_Confirmed\n",
    "\t\t))\n",
    "\n",
    "\t# StopIteration error is raised when\n",
    "\t# there are no more elements left to\n",
    "\t# iterate through\n",
    "\texcept StopIteration:\n",
    "\t\tbreak\n",
    "\n",
    "# Sort the data by the number of confirmed cases\n",
    "data.sort(key = lambda row: row[1], reverse = True)"
   ]
  },
  {
   "cell_type": "code",
   "execution_count": 5,
   "metadata": {},
   "outputs": [
    {
     "data": {
      "text/plain": [
       "[]"
      ]
     },
     "execution_count": 5,
     "metadata": {},
     "output_type": "execute_result"
    }
   ],
   "source": [
    "data"
   ]
  },
  {
   "cell_type": "code",
   "execution_count": 6,
   "metadata": {},
   "outputs": [
    {
     "name": "stdout",
     "output_type": "stream",
     "text": [
      "+-----------+-------------------+----------+-------------+\n",
      "|  Country  |  Number of cases  |  Deaths  |  Continent  |\n",
      "+===========+===================+==========+=============+\n",
      "+-----------+-------------------+----------+-------------+\n"
     ]
    }
   ],
   "source": [
    "# create texttable object\n",
    "import texttable as tt\n",
    "table = tt.Texttable()\n",
    "\n",
    "# Add an empty row at the beginning for the headers\n",
    "table.add_rows([(None, None, None, None)] + data)\n",
    "\n",
    "# 'l' denotes left, 'c' denotes center,\n",
    "# and 'r' denotes right\n",
    "table.set_cols_align(('c', 'c', 'c', 'c'))\n",
    "table.header((' Country ', ' Number of cases ', ' Deaths ', ' Continent '))\n",
    "\n",
    "print(table.draw())"
   ]
  }
 ],
 "metadata": {
  "kernelspec": {
   "display_name": "Python 3",
   "language": "python",
   "name": "python3"
  },
  "language_info": {
   "codemirror_mode": {
    "name": "ipython",
    "version": 3
   },
   "file_extension": ".py",
   "mimetype": "text/x-python",
   "name": "python",
   "nbconvert_exporter": "python",
   "pygments_lexer": "ipython3",
   "version": "3.10.11"
  },
  "orig_nbformat": 4
 },
 "nbformat": 4,
 "nbformat_minor": 2
}
